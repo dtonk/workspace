{
 "cells": [
  {
   "cell_type": "markdown",
   "id": "b9c5b5c5",
   "metadata": {},
   "source": [
    "## This is a process to let you upload a CSV and run sql queriese on it without needing a data warehouse\n",
    "\n",
    "As a first step you will need to open jupyter notebook. In your file explorer, create a new folder where you will store your data and save your workbooks. I will create one in my /Documents folder called \"workspace\"\n",
    "\n",
    "Now, open up your Terminal/Windows Terminal and navigate to the folder you created. \n",
    "\n",
    "For me, I would first open the Terminal applications then type: `cd Documents/workspace` to navigate to the right folder.\n",
    "\n",
    "Once there, run the `jupyter notebook` command to open up Jupyter and create a new workbook. \n",
    "   "
   ]
  },
  {
   "cell_type": "code",
   "execution_count": 2,
   "id": "0ce42e48",
   "metadata": {},
   "outputs": [],
   "source": [
    "#next you have to import the packages you'll need for this process\n",
    "\n",
    "import pandas as pd #pandase is a popular package for creating dataframes (tables) and analysis\n",
    "from pandasql import sqldf #pandaSQL is the package which will let you run SQL "
   ]
  },
  {
   "cell_type": "markdown",
   "id": "c8db6838",
   "metadata": {},
   "source": [
    "Next you will need to pull in you CSV File. We will do this two ways:\n",
    " - pulling in a file from your computer\n",
    " - pulling in a file from the open data portal"
   ]
  },
  {
   "cell_type": "markdown",
   "id": "e8b118f5",
   "metadata": {},
   "source": [
    "## Pulling in a file from your computer: \n",
    "\n",
    "Fist save the file in the same folder that you are using to run Jupyter Notebooks (for me, this is the workspace folder)\n",
    "\n",
    "Now, you will use Pandas package that you installed earler to read that CSV file and create a dataframe\n"
   ]
  },
  {
   "cell_type": "code",
   "execution_count": null,
   "id": "a4b1ae7c",
   "metadata": {},
   "outputs": [],
   "source": []
  }
 ],
 "metadata": {
  "kernelspec": {
   "display_name": "Python 3 (ipykernel)",
   "language": "python",
   "name": "python3"
  },
  "language_info": {
   "codemirror_mode": {
    "name": "ipython",
    "version": 3
   },
   "file_extension": ".py",
   "mimetype": "text/x-python",
   "name": "python",
   "nbconvert_exporter": "python",
   "pygments_lexer": "ipython3",
   "version": "3.9.12"
  }
 },
 "nbformat": 4,
 "nbformat_minor": 5
}
