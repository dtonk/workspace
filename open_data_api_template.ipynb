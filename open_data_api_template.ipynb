{
 "cells": [
  {
   "cell_type": "code",
   "execution_count": 1,
   "id": "c7c52b55",
   "metadata": {},
   "outputs": [],
   "source": [
    "import pandas as pd\n",
    "from pandasql import sqldf"
   ]
  },
  {
   "cell_type": "code",
   "execution_count": 2,
   "id": "28f589aa",
   "metadata": {},
   "outputs": [],
   "source": [
    "dataset = 'https://data.sfgov.org/api/views/kc49-udxn/rows.csv?$limit=10000' #url from the download csv button in the open data portal"
   ]
  },
  {
   "cell_type": "code",
   "execution_count": 3,
   "id": "eca691bf",
   "metadata": {},
   "outputs": [],
   "source": [
    "data = pd.read_csv(dataset)"
   ]
  },
  {
   "cell_type": "code",
   "execution_count": 4,
   "id": "3eba4065",
   "metadata": {},
   "outputs": [
    {
     "name": "stdout",
     "output_type": "stream",
     "text": [
      "<class 'pandas.core.frame.DataFrame'>\n",
      "RangeIndex: 16396 entries, 0 to 16395\n",
      "Data columns (total 13 columns):\n",
      " #   Column                      Non-Null Count  Dtype  \n",
      "---  ------                      --------------  -----  \n",
      " 0   Measure Code                16396 non-null  int64  \n",
      " 1   Department                  16396 non-null  object \n",
      " 2   Goal                        16396 non-null  object \n",
      " 3   Measure Title               16396 non-null  object \n",
      " 4   Scorecard Update Frequency  16396 non-null  object \n",
      " 5   Monthly                     16396 non-null  bool   \n",
      " 6   Calendar Month              16396 non-null  object \n",
      " 7   Measure Description         16106 non-null  object \n",
      " 8   Measure Methodology         7454 non-null   object \n",
      " 9   Category                    16396 non-null  object \n",
      " 10  Actual                      11853 non-null  float64\n",
      " 11  Measure Data Type           16136 non-null  object \n",
      " 12  data_loaded_at              16396 non-null  object \n",
      "dtypes: bool(1), float64(1), int64(1), object(10)\n",
      "memory usage: 1.5+ MB\n"
     ]
    }
   ],
   "source": [
    "data.info() #description of dataset"
   ]
  },
  {
   "cell_type": "code",
   "execution_count": 10,
   "id": "cd1e6ba2",
   "metadata": {},
   "outputs": [],
   "source": [
    "query = sqldf(\n",
    "\"\"\"\n",
    "select\n",
    "DISTINCT\n",
    "Department,\n",
    "\"Measure Title\"\n",
    "from data\n",
    "WHERE \"Measure Title\" = 'Environment'\n",
    "\"\"\")"
   ]
  },
  {
   "cell_type": "code",
   "execution_count": 11,
   "id": "73827c83",
   "metadata": {},
   "outputs": [
    {
     "data": {
      "text/html": [
       "<div>\n",
       "<style scoped>\n",
       "    .dataframe tbody tr th:only-of-type {\n",
       "        vertical-align: middle;\n",
       "    }\n",
       "\n",
       "    .dataframe tbody tr th {\n",
       "        vertical-align: top;\n",
       "    }\n",
       "\n",
       "    .dataframe thead th {\n",
       "        text-align: right;\n",
       "    }\n",
       "</style>\n",
       "<table border=\"1\" class=\"dataframe\">\n",
       "  <thead>\n",
       "    <tr style=\"text-align: right;\">\n",
       "      <th></th>\n",
       "      <th>Department</th>\n",
       "      <th>Measure Title</th>\n",
       "    </tr>\n",
       "  </thead>\n",
       "  <tbody>\n",
       "    <tr>\n",
       "      <th>0</th>\n",
       "      <td>Environment</td>\n",
       "      <td>Average workday tons of refuse to primary land...</td>\n",
       "    </tr>\n",
       "    <tr>\n",
       "      <th>1</th>\n",
       "      <td>Environment</td>\n",
       "      <td>Percentage of residential and small business r...</td>\n",
       "    </tr>\n",
       "    <tr>\n",
       "      <th>2</th>\n",
       "      <td>Environment</td>\n",
       "      <td>Greenhouse gas emissions percentage below 1990...</td>\n",
       "    </tr>\n",
       "  </tbody>\n",
       "</table>\n",
       "</div>"
      ],
      "text/plain": [
       "    Department                                      Measure Title\n",
       "0  Environment  Average workday tons of refuse to primary land...\n",
       "1  Environment  Percentage of residential and small business r...\n",
       "2  Environment  Greenhouse gas emissions percentage below 1990..."
      ]
     },
     "execution_count": 11,
     "metadata": {},
     "output_type": "execute_result"
    }
   ],
   "source": [
    "query"
   ]
  },
  {
   "cell_type": "code",
   "execution_count": 26,
   "id": "a95c0dd8",
   "metadata": {},
   "outputs": [],
   "source": [
    "query.to_csv('output.csv') #save query output as csv"
   ]
  }
 ],
 "metadata": {
  "kernelspec": {
   "display_name": "Python 3 (ipykernel)",
   "language": "python",
   "name": "python3"
  },
  "language_info": {
   "codemirror_mode": {
    "name": "ipython",
    "version": 3
   },
   "file_extension": ".py",
   "mimetype": "text/x-python",
   "name": "python",
   "nbconvert_exporter": "python",
   "pygments_lexer": "ipython3",
   "version": "3.9.12"
  }
 },
 "nbformat": 4,
 "nbformat_minor": 5
}
