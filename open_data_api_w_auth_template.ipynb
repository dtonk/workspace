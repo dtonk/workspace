{
 "cells": [
  {
   "cell_type": "code",
   "execution_count": 52,
   "id": "c7c52b55",
   "metadata": {},
   "outputs": [],
   "source": [
    "import requests\n",
    "import json\n",
    "import pandas as pd"
   ]
  },
  {
   "cell_type": "code",
   "execution_count": 45,
   "id": "58bb6310",
   "metadata": {},
   "outputs": [],
   "source": [
    "url = \"https://data.sfgov.org/resource/86e8-rfem.json\""
   ]
  },
  {
   "cell_type": "code",
   "execution_count": 41,
   "id": "dfb8a976",
   "metadata": {},
   "outputs": [],
   "source": [
    "url2 = \"https://data.sfgov.org/api/geospatial/86e8-rfem?date=20231024&accessType=DOWNLOAD&method=export&format=Shapefile\""
   ]
  },
  {
   "cell_type": "code",
   "execution_count": 28,
   "id": "28f589aa",
   "metadata": {},
   "outputs": [],
   "source": [
    "username = \"<username>\"\n",
    "password = \"<password>\""
   ]
  },
  {
   "cell_type": "code",
   "execution_count": 29,
   "id": "4192315f",
   "metadata": {},
   "outputs": [],
   "source": [
    "session = requests.Session()\n",
    "session.auth = (username, password)"
   ]
  },
  {
   "cell_type": "code",
   "execution_count": 46,
   "id": "a5777af5",
   "metadata": {},
   "outputs": [],
   "source": [
    "response = session.get(url)"
   ]
  },
  {
   "cell_type": "code",
   "execution_count": 58,
   "id": "71f58397",
   "metadata": {},
   "outputs": [],
   "source": [
    "data = response.json()"
   ]
  },
  {
   "cell_type": "code",
   "execution_count": 59,
   "id": "91befcbc",
   "metadata": {},
   "outputs": [],
   "source": [
    "df = pd.DataFrame(data)"
   ]
  },
  {
   "cell_type": "code",
   "execution_count": 60,
   "id": "9d416c9e",
   "metadata": {},
   "outputs": [
    {
     "data": {
      "text/html": [
       "<div>\n",
       "<style scoped>\n",
       "    .dataframe tbody tr th:only-of-type {\n",
       "        vertical-align: middle;\n",
       "    }\n",
       "\n",
       "    .dataframe tbody tr th {\n",
       "        vertical-align: top;\n",
       "    }\n",
       "\n",
       "    .dataframe thead th {\n",
       "        text-align: right;\n",
       "    }\n",
       "</style>\n",
       "<table border=\"1\" class=\"dataframe\">\n",
       "  <thead>\n",
       "    <tr style=\"text-align: right;\">\n",
       "      <th></th>\n",
       "      <th>active_licences</th>\n",
       "      <th>permit_number</th>\n",
       "      <th>ban</th>\n",
       "      <th>permit_status</th>\n",
       "      <th>poe_class_code</th>\n",
       "      <th>license_type</th>\n",
       "      <th>dba_name</th>\n",
       "      <th>street_address</th>\n",
       "      <th>city</th>\n",
       "      <th>state</th>\n",
       "      <th>point</th>\n",
       "    </tr>\n",
       "  </thead>\n",
       "  <tbody>\n",
       "    <tr>\n",
       "      <th>0</th>\n",
       "      <td>[\"POE\",\"BP\",\"MAD\"]</td>\n",
       "      <td>1723</td>\n",
       "      <td>1148678</td>\n",
       "      <td>Active</td>\n",
       "      <td>P23</td>\n",
       "      <td>Place of Entertainment</td>\n",
       "      <td>LUCKY STRIKE LANES</td>\n",
       "      <td>200 KING ST</td>\n",
       "      <td>San Francisco</td>\n",
       "      <td>CA</td>\n",
       "      <td>{'type': 'Point', 'coordinates': [-122.3929120...</td>\n",
       "    </tr>\n",
       "    <tr>\n",
       "      <th>1</th>\n",
       "      <td>[\"POE\",\"BP\",\"MAD\"]</td>\n",
       "      <td>938</td>\n",
       "      <td>NaN</td>\n",
       "      <td>Active</td>\n",
       "      <td>P23</td>\n",
       "      <td>Place of Entertainment</td>\n",
       "      <td>Buckshot Bar</td>\n",
       "      <td>3848 Geary Blvd</td>\n",
       "      <td>San Francisco</td>\n",
       "      <td>CA</td>\n",
       "      <td>{'type': 'Point', 'coordinates': [-122.4608520...</td>\n",
       "    </tr>\n",
       "    <tr>\n",
       "      <th>2</th>\n",
       "      <td>[\"POE\",\"BP\"]</td>\n",
       "      <td>0033</td>\n",
       "      <td>NaN</td>\n",
       "      <td>Active</td>\n",
       "      <td>P23</td>\n",
       "      <td>Place of Entertainment</td>\n",
       "      <td>MOLOTOV'S</td>\n",
       "      <td>582 Haight St.</td>\n",
       "      <td>San Francisco</td>\n",
       "      <td>CA</td>\n",
       "      <td>{'type': 'Point', 'coordinates': [-122.4317740...</td>\n",
       "    </tr>\n",
       "    <tr>\n",
       "      <th>3</th>\n",
       "      <td>[\"POE\",\"BP\"]</td>\n",
       "      <td>1034</td>\n",
       "      <td>462375</td>\n",
       "      <td>Active</td>\n",
       "      <td>P23</td>\n",
       "      <td>Place of Entertainment</td>\n",
       "      <td>Club 26 Mix</td>\n",
       "      <td>3024 Mission St</td>\n",
       "      <td>San Francisco</td>\n",
       "      <td>CA</td>\n",
       "      <td>{'type': 'Point', 'coordinates': [-122.4184629...</td>\n",
       "    </tr>\n",
       "    <tr>\n",
       "      <th>4</th>\n",
       "      <td>[\"POE\",\"BP\"]</td>\n",
       "      <td>1176</td>\n",
       "      <td>0479844</td>\n",
       "      <td>Active</td>\n",
       "      <td>P23</td>\n",
       "      <td>Place of Entertainment</td>\n",
       "      <td>Slate Bar</td>\n",
       "      <td>2925 16th Street</td>\n",
       "      <td>San Francisco</td>\n",
       "      <td>CA</td>\n",
       "      <td>{'type': 'Point', 'coordinates': [-122.4179210...</td>\n",
       "    </tr>\n",
       "  </tbody>\n",
       "</table>\n",
       "</div>"
      ],
      "text/plain": [
       "      active_licences permit_number      ban permit_status poe_class_code  \\\n",
       "0  [\"POE\",\"BP\",\"MAD\"]          1723  1148678        Active            P23   \n",
       "1  [\"POE\",\"BP\",\"MAD\"]           938      NaN        Active            P23   \n",
       "2        [\"POE\",\"BP\"]          0033      NaN        Active            P23   \n",
       "3        [\"POE\",\"BP\"]          1034   462375        Active            P23   \n",
       "4        [\"POE\",\"BP\"]          1176  0479844        Active            P23   \n",
       "\n",
       "             license_type            dba_name    street_address  \\\n",
       "0  Place of Entertainment  LUCKY STRIKE LANES       200 KING ST   \n",
       "1  Place of Entertainment        Buckshot Bar   3848 Geary Blvd   \n",
       "2  Place of Entertainment           MOLOTOV'S    582 Haight St.   \n",
       "3  Place of Entertainment         Club 26 Mix   3024 Mission St   \n",
       "4  Place of Entertainment           Slate Bar  2925 16th Street   \n",
       "\n",
       "            city state                                              point  \n",
       "0  San Francisco    CA  {'type': 'Point', 'coordinates': [-122.3929120...  \n",
       "1  San Francisco    CA  {'type': 'Point', 'coordinates': [-122.4608520...  \n",
       "2  San Francisco    CA  {'type': 'Point', 'coordinates': [-122.4317740...  \n",
       "3  San Francisco    CA  {'type': 'Point', 'coordinates': [-122.4184629...  \n",
       "4  San Francisco    CA  {'type': 'Point', 'coordinates': [-122.4179210...  "
      ]
     },
     "execution_count": 60,
     "metadata": {},
     "output_type": "execute_result"
    }
   ],
   "source": [
    "df.head()"
   ]
  }
 ],
 "metadata": {
  "kernelspec": {
   "display_name": "Python 3 (ipykernel)",
   "language": "python",
   "name": "python3"
  },
  "language_info": {
   "codemirror_mode": {
    "name": "ipython",
    "version": 3
   },
   "file_extension": ".py",
   "mimetype": "text/x-python",
   "name": "python",
   "nbconvert_exporter": "python",
   "pygments_lexer": "ipython3",
   "version": "3.9.12"
  }
 },
 "nbformat": 4,
 "nbformat_minor": 5
}
